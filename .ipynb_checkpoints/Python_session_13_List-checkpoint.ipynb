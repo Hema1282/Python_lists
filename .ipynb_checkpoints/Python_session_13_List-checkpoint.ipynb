{
 "cells": [
  {
   "cell_type": "code",
   "execution_count": 2,
   "id": "e373498a-5371-4c4d-b6f7-f5d7e86347cf",
   "metadata": {},
   "outputs": [
    {
     "name": "stdin",
     "output_type": "stream",
     "text": [
      " Sara\n"
     ]
    },
    {
     "name": "stdout",
     "output_type": "stream",
     "text": [
      "Hello Sara\n"
     ]
    }
   ],
   "source": [
    "name=input()\n",
    "if name == \"Sara\":\n",
    "    print(\"Hello Sara\")\n",
    "else:\n",
    "    print(f\"Hello {name}\")"
   ]
  },
  {
   "cell_type": "markdown",
   "id": "19685545-2d6c-41fc-9275-8010356aa4f9",
   "metadata": {},
   "source": [
    "- Intialization\n",
    "\n",
    "- type\n",
    "\n",
    "- len \n",
    "\n",
    "- max \n",
    "\n",
    "- min\n",
    "\n",
    "- sorted\n",
    "\n",
    "- reversed\n",
    "\n",
    "- in\n",
    "\n",
    "- for loop in\n",
    "\n",
    "- index\n",
    "\n",
    "- for loop using index\n",
    "\n",
    "- mutable\n",
    "\n",
    "- concatenation\n",
    "\n",
    "- slicing\n",
    "\n",
    "- methods"
   ]
  },
  {
   "cell_type": "markdown",
   "id": "6f0be0ba-1d70-469f-8e0c-af146195a653",
   "metadata": {},
   "source": [
    "**Representation**"
   ]
  },
  {
   "cell_type": "markdown",
   "id": "d4899c2d-42b6-4444-963a-1c15dde12191",
   "metadata": {},
   "source": [
    "- string represent with quotes\n",
    "\n",
    "- lists reprsent with square brackets[]"
   ]
  },
  {
   "cell_type": "code",
   "execution_count": 1,
   "id": "4b558d8f-75b8-4dcc-bfdc-3f6066fef4f4",
   "metadata": {},
   "outputs": [
    {
     "data": {
      "text/plain": [
       "[1, 2, 3, 4]"
      ]
     },
     "execution_count": 1,
     "metadata": {},
     "output_type": "execute_result"
    }
   ],
   "source": [
    "l1=[1,2,3,4]\n",
    "l1"
   ]
  },
  {
   "cell_type": "code",
   "execution_count": 2,
   "id": "6e519e71-0e32-4b0c-bb65-d2dddeeaac54",
   "metadata": {},
   "outputs": [
    {
     "data": {
      "text/plain": [
       "list"
      ]
     },
     "execution_count": 2,
     "metadata": {},
     "output_type": "execute_result"
    }
   ],
   "source": [
    "type(l1)"
   ]
  },
  {
   "cell_type": "code",
   "execution_count": 3,
   "id": "65134f3f-e29d-4e63-b343-25c81a1d906a",
   "metadata": {},
   "outputs": [
    {
     "data": {
      "text/plain": [
       "['A', 'B', 'C', 'D']"
      ]
     },
     "execution_count": 3,
     "metadata": {},
     "output_type": "execute_result"
    }
   ],
   "source": [
    "l2=['A','B','C','D']\n",
    "l2"
   ]
  },
  {
   "cell_type": "code",
   "execution_count": 4,
   "id": "1f363358-5761-4467-a6cf-bff39a138acb",
   "metadata": {},
   "outputs": [
    {
     "data": {
      "text/plain": [
       "[1, 2, 3, 4, 'A', 'B', 'C', 'D']"
      ]
     },
     "execution_count": 4,
     "metadata": {},
     "output_type": "execute_result"
    }
   ],
   "source": [
    "l3=[1,2,3,4,'A','B','C','D']\n",
    "l3"
   ]
  },
  {
   "cell_type": "code",
   "execution_count": 6,
   "id": "7ed1a5b4-fef2-4059-bccc-5835e811b983",
   "metadata": {},
   "outputs": [
    {
     "data": {
      "text/plain": [
       "[1, 2, 3, 'A', 'B', 'apple', 'Ball', True, False, 'C']"
      ]
     },
     "execution_count": 6,
     "metadata": {},
     "output_type": "execute_result"
    }
   ],
   "source": [
    "l4=[1,2,3,'A','B','apple','Ball',True,False,'C']\n",
    "l4"
   ]
  },
  {
   "cell_type": "code",
   "execution_count": 108,
   "id": "5d4bb0eb-8718-458a-9d66-1c9a4d6475ab",
   "metadata": {},
   "outputs": [
    {
     "data": {
      "text/plain": [
       "['naresh it']"
      ]
     },
     "execution_count": 108,
     "metadata": {},
     "output_type": "execute_result"
    }
   ],
   "source": [
    "name='naresh it'\n",
    "l5=[name]\n",
    "l5"
   ]
  },
  {
   "cell_type": "code",
   "execution_count": 8,
   "id": "bccd08c9-bb39-4d49-9ae0-b4c8cda70966",
   "metadata": {},
   "outputs": [
    {
     "data": {
      "text/plain": [
       "[100, 100, 100]"
      ]
     },
     "execution_count": 8,
     "metadata": {},
     "output_type": "execute_result"
    }
   ],
   "source": [
    "l6=[100,100,100]\n",
    "l6"
   ]
  },
  {
   "cell_type": "code",
   "execution_count": 9,
   "id": "22a85021-2678-4ef5-95a3-d65104592e0a",
   "metadata": {},
   "outputs": [
    {
     "data": {
      "text/plain": [
       "[100, 'Apple', ['A', 2]]"
      ]
     },
     "execution_count": 9,
     "metadata": {},
     "output_type": "execute_result"
    }
   ],
   "source": [
    "l7=[100,'Apple',['A',2]]\n",
    "l7"
   ]
  },
  {
   "cell_type": "code",
   "execution_count": null,
   "id": "1983995e-29ff-471f-ad61-97f0379b5b06",
   "metadata": {},
   "outputs": [],
   "source": [
    "l1=[1,2,3,4]\n",
    "l2=['A','B','C','D']\n",
    "l3=[1,2,3,4,'A','B','C','D']\n",
    "l4=[1,2,3,'A','B','apple','Ball',True,False,'C']\n",
    "name='naresh it'\n",
    "l5=[name]\n",
    "l6=[100,100,100]\n",
    "l7=[100,'Apple',['A',2]]"
   ]
  },
  {
   "cell_type": "markdown",
   "id": "dd25e904-a5d2-4101-9861-45a3adaecbf7",
   "metadata": {},
   "source": [
    "- list are array of elements\n",
    "\n",
    "- list elements are heterogeneous all the datatypes we can represent in a list\n",
    "\n",
    "- list elements are allowed duplicates\n",
    "\n",
    "- list in list is possible\n",
    "\n",
    "- variable assignment also possible in the list."
   ]
  },
  {
   "cell_type": "markdown",
   "id": "3f3c8c78-662c-434f-91fa-7b2a4c8a68fc",
   "metadata": {},
   "source": [
    "- len \n",
    "\n",
    "- max\n",
    "\n",
    "- min\n",
    "\n",
    "- sorted\n",
    "\n",
    "- reversed"
   ]
  },
  {
   "cell_type": "code",
   "execution_count": 11,
   "id": "21a5b4f4-0828-494f-8798-e7ead7da21c7",
   "metadata": {},
   "outputs": [
    {
     "name": "stdout",
     "output_type": "stream",
     "text": [
      "L1 length :4\n",
      "L1 length :4\n",
      "L1 length :8\n",
      "L1 length :10\n",
      "L1 length :1\n",
      "L1 length :3\n",
      "L1 length :3\n"
     ]
    }
   ],
   "source": [
    "print(f\"L1 length :{len(l1)}\")\n",
    "print(f\"L1 length :{len(l2)}\")\n",
    "print(f\"L1 length :{len(l3)}\")\n",
    "print(f\"L1 length :{len(l4)}\")\n",
    "print(f\"L1 length :{len(l5)}\")\n",
    "print(f\"L1 length :{len(l6)}\")\n",
    "print(f\"L1 length :{len(l7)}\")\n"
   ]
  },
  {
   "cell_type": "code",
   "execution_count": 17,
   "id": "b949eff0-f092-4a56-b963-53fbafd8b48b",
   "metadata": {},
   "outputs": [
    {
     "name": "stdout",
     "output_type": "stream",
     "text": [
      "max in l1 :4\n",
      "max in l2 :D\n",
      "max in l5 :naresh it\n",
      "max in l6 :100\n"
     ]
    }
   ],
   "source": [
    "print(f\"max in l1 :{max(l1)}\")\n",
    "print(f\"max in l2 :{max(l2)}\")\n",
    "#print(f\"max in l3 :{max(l3)}\")\n",
    "#print(f\"max in l4 :{max(l4)}\")\n",
    "print(f\"max in l5 :{max(l5)}\")\n",
    "print(f\"max in l6 :{max(l6)}\")\n",
    "#print(f\"max in l7 :{max(l7)}\")"
   ]
  },
  {
   "cell_type": "code",
   "execution_count": 21,
   "id": "a5bbb48d-0fba-46d1-8379-ba9849d8e65c",
   "metadata": {},
   "outputs": [
    {
     "name": "stdout",
     "output_type": "stream",
     "text": [
      "4\n",
      "4\n",
      "1\n",
      "[1, 2, 3, 4]\n",
      "<list_reverseiterator object at 0x000001B05D92B8B0>\n"
     ]
    }
   ],
   "source": [
    "l1=[1,2,3,4]\n",
    "print(len(l1))\n",
    "print(max(l1))\n",
    "print(min(l1))\n",
    "print(sorted(l1))\n",
    "print(reversed(l1))"
   ]
  },
  {
   "cell_type": "code",
   "execution_count": 27,
   "id": "777ec331-5506-4781-b3a2-1f37aa987053",
   "metadata": {},
   "outputs": [
    {
     "name": "stdout",
     "output_type": "stream",
     "text": [
      "4 3 2 1 "
     ]
    }
   ],
   "source": [
    "r=(reversed(l1))\n",
    "for i in r:\n",
    "    print(i,end=' ')"
   ]
  },
  {
   "cell_type": "code",
   "execution_count": 29,
   "id": "4c59247c-e155-4419-b5cc-5a1c46d500dd",
   "metadata": {},
   "outputs": [
    {
     "name": "stdout",
     "output_type": "stream",
     "text": [
      "4\n",
      "D\n",
      "A\n",
      "['A', 'B', 'C', 'D']\n",
      "<list_reverseiterator object at 0x000001B05DB3D180>\n"
     ]
    }
   ],
   "source": [
    "l2=['B','D','A','C']\n",
    "print(len(l2))\n",
    "print(max(l2))\n",
    "print(min(l2))\n",
    "print(sorted(l2))\n",
    "print(reversed(l2))"
   ]
  },
  {
   "cell_type": "code",
   "execution_count": 30,
   "id": "2587dd00-a86f-4985-ab82-19cc42b37b33",
   "metadata": {},
   "outputs": [
    {
     "name": "stdout",
     "output_type": "stream",
     "text": [
      "C A D B "
     ]
    }
   ],
   "source": [
    "r=(reversed(l2))\n",
    "for i in r:\n",
    "    print(i,end=' ')"
   ]
  },
  {
   "cell_type": "code",
   "execution_count": 39,
   "id": "6cc8076a-5510-480e-87bf-dc63d1a2400d",
   "metadata": {},
   "outputs": [
    {
     "name": "stdout",
     "output_type": "stream",
     "text": [
      "8\n",
      "<list_reverseiterator object at 0x000001B05DB4C250>\n"
     ]
    }
   ],
   "source": [
    "l3=[1,2,3,4,'A','B','C','D']\n",
    "print(len(l3))\n",
    "# print(max(l3))  '>' not supported between instances of 'str' and 'int'\n",
    "# print(min(l3))    '>' not supported between instances of 'str' and 'int'\n",
    "# print(sorted(l3))    '>' not supported between instances of 'str' and 'int'\n",
    "print(reversed(l3))"
   ]
  },
  {
   "cell_type": "code",
   "execution_count": 40,
   "id": "2c07421a-a855-48d9-87bc-17a453f7f619",
   "metadata": {},
   "outputs": [
    {
     "name": "stdout",
     "output_type": "stream",
     "text": [
      "D C B A 4 3 2 1 "
     ]
    }
   ],
   "source": [
    "for i in (reversed(l3)):\n",
    "    print(i,end=' ')"
   ]
  },
  {
   "cell_type": "code",
   "execution_count": 44,
   "id": "495d68df-7685-4181-8c9e-d1e4e8082460",
   "metadata": {},
   "outputs": [
    {
     "name": "stdout",
     "output_type": "stream",
     "text": [
      "10\n",
      "<list_reverseiterator object at 0x000001B05DB5AA40>\n",
      "C False True Ball apple B A 3 2 1 "
     ]
    }
   ],
   "source": [
    "l4=[1,2,3,'A','B','apple','Ball',True,False,'C']\n",
    "print(len(l4))\n",
    "# print(max(l4)) #'>' not supported between instances of 'str' and 'int'\n",
    "# print(min(l4))\n",
    "# print(sorted(l4))\n",
    "print(reversed(l4))\n",
    "for i in reversed(l4):\n",
    "    print(i,end=' ')\n",
    "    "
   ]
  },
  {
   "cell_type": "markdown",
   "id": "70679d26-bc4d-434c-8464-e3a427e26692",
   "metadata": {},
   "source": [
    "**list Typecast**"
   ]
  },
  {
   "cell_type": "code",
   "execution_count": 45,
   "id": "534504e4-7645-4a21-a885-b03f48a824fc",
   "metadata": {},
   "outputs": [
    {
     "data": {
      "text/plain": [
       "['C', False, True, 'Ball', 'apple', 'B', 'A', 3, 2, 1]"
      ]
     },
     "execution_count": 45,
     "metadata": {},
     "output_type": "execute_result"
    }
   ],
   "source": [
    "list(reversed(l4))"
   ]
  },
  {
   "cell_type": "code",
   "execution_count": 50,
   "id": "e6c0d660-35e7-47f3-a82d-8d6a26f1b6ef",
   "metadata": {},
   "outputs": [
    {
     "name": "stdout",
     "output_type": "stream",
     "text": [
      "2\n",
      "naresh it\n",
      "Hema\n",
      "['Hema', 'naresh it']\n",
      "['Hema', 'naresh it']\n"
     ]
    }
   ],
   "source": [
    "name='naresh it'\n",
    "name2='Hema'\n",
    "l5=[name,name2]\n",
    "print(len(l5))\n",
    "print(max(l5))\n",
    "print(min(l5))\n",
    "print(sorted(l5))\n",
    "print(list(reversed(l5)))"
   ]
  },
  {
   "cell_type": "code",
   "execution_count": 70,
   "id": "1d0d7e74-2264-4dea-a8be-06545932c3f1",
   "metadata": {},
   "outputs": [
    {
     "name": "stdout",
     "output_type": "stream",
     "text": [
      "3\n",
      "100\n",
      "100\n",
      "[100, 100, 100]\n",
      "[100, 100, 100]\n"
     ]
    }
   ],
   "source": [
    "l6=[100,100,100]\n",
    "print(len(l6))\n",
    "print(max(l6))\n",
    "print(min(l6))\n",
    "print(sorted(l6))\n",
    "print(list(reversed(l6)))"
   ]
  },
  {
   "cell_type": "code",
   "execution_count": 73,
   "id": "953de65c-f18a-424f-894a-2397736e2f5d",
   "metadata": {},
   "outputs": [
    {
     "name": "stdout",
     "output_type": "stream",
     "text": [
      "3\n",
      "[['A', 2], 'Apple', 100]\n"
     ]
    }
   ],
   "source": [
    "l7=[100,'Apple',['A',2]]\n",
    "print(len(l7))\n",
    "# print(max(l7))\n",
    "# print(min(l7))\n",
    "# print(sorted(l7))\n",
    "print(list(reversed(l7)))"
   ]
  },
  {
   "cell_type": "code",
   "execution_count": null,
   "id": "5f8bef9d-41c3-412e-a8df-e5ed00b8f651",
   "metadata": {},
   "outputs": [],
   "source": []
  },
  {
   "cell_type": "code",
   "execution_count": null,
   "id": "38da2243-d25b-4aa4-b647-31b0260baab0",
   "metadata": {},
   "outputs": [],
   "source": [
    "l3=[1,2,3,4,'A','B','C','D']\n",
    "l4=[1,2,3,'A','B','apple','Ball',True,False,'C']\n",
    "name='naresh it'\n",
    "l5=[name]\n",
    "l6=[100,100,100]\n",
    "l7=[100,'Apple',['A',2]]"
   ]
  },
  {
   "cell_type": "code",
   "execution_count": 52,
   "id": "8909e23f-9d8d-44e4-a602-e24329451c82",
   "metadata": {},
   "outputs": [
    {
     "data": {
      "text/plain": [
       "'adithya'"
      ]
     },
     "execution_count": 52,
     "metadata": {},
     "output_type": "execute_result"
    }
   ],
   "source": [
    "name=['adithya','aadithya']\n",
    "max(name)\n",
    "# First compares all the first letters\n",
    "# If all first letters ascii values are same\n",
    "# then compares with second letters\n",
    "# continue the process"
   ]
  },
  {
   "cell_type": "code",
   "execution_count": 57,
   "id": "6da24eb2-1a8a-40d2-99db-73febcd6b2bf",
   "metadata": {},
   "outputs": [
    {
     "data": {
      "text/plain": [
       "('adithya', 'Aadithya')"
      ]
     },
     "execution_count": 57,
     "metadata": {},
     "output_type": "execute_result"
    }
   ],
   "source": [
    "name=['adithya','Aadithya']\n",
    "max(name),min(name)"
   ]
  },
  {
   "cell_type": "code",
   "execution_count": 58,
   "id": "04caaa28-f3d3-4942-bcf9-465cdc6e5c94",
   "metadata": {},
   "outputs": [
    {
     "data": {
      "text/plain": [
       "3"
      ]
     },
     "execution_count": 58,
     "metadata": {},
     "output_type": "execute_result"
    }
   ],
   "source": [
    "a=['a',2,['apple',4]]\n",
    "len(a)"
   ]
  },
  {
   "cell_type": "code",
   "execution_count": 55,
   "id": "caba08a9-fe3b-44d4-9735-8fc8d59fb23b",
   "metadata": {},
   "outputs": [
    {
     "data": {
      "text/plain": [
       "(97, 65)"
      ]
     },
     "execution_count": 55,
     "metadata": {},
     "output_type": "execute_result"
    }
   ],
   "source": [
    "list1=[65,'A']\n",
    "max(list1) # error\n",
    "\n",
    "# same data type only comparable"
   ]
  },
  {
   "cell_type": "markdown",
   "id": "68d27983-bfa2-4880-8506-1def584f51aa",
   "metadata": {},
   "source": [
    "**index**"
   ]
  },
  {
   "cell_type": "code",
   "execution_count": 60,
   "id": "6f9507fc-c000-4d22-9f70-810e5df6531d",
   "metadata": {},
   "outputs": [],
   "source": [
    "l4=[1,2,3,'apple','Ball','Cat',True,False]\n",
    "\n",
    "# 1  2   3   apple    ball  Cat    True   False\n",
    "# 0  1   2    3         4    5     6        7"
   ]
  },
  {
   "cell_type": "code",
   "execution_count": 61,
   "id": "f847b8f9-f966-4396-91aa-849b5057e8ee",
   "metadata": {},
   "outputs": [
    {
     "data": {
      "text/plain": [
       "('apple', 'apple')"
      ]
     },
     "execution_count": 61,
     "metadata": {},
     "output_type": "execute_result"
    }
   ],
   "source": [
    "l4[3],l4[-5]"
   ]
  },
  {
   "cell_type": "code",
   "execution_count": 62,
   "id": "76c62366-f190-4d01-b922-9c32adf23a8f",
   "metadata": {},
   "outputs": [
    {
     "data": {
      "text/plain": [
       "1"
      ]
     },
     "execution_count": 62,
     "metadata": {},
     "output_type": "execute_result"
    }
   ],
   "source": [
    "l1=[1,[2]]\n",
    "l1[0]"
   ]
  },
  {
   "cell_type": "code",
   "execution_count": 66,
   "id": "bd189f60-8d76-4f99-abee-4831724e0aca",
   "metadata": {},
   "outputs": [
    {
     "data": {
      "text/plain": [
       "2"
      ]
     },
     "execution_count": 66,
     "metadata": {},
     "output_type": "execute_result"
    }
   ],
   "source": [
    "new=l1[1]\n",
    "new[0]"
   ]
  },
  {
   "cell_type": "code",
   "execution_count": null,
   "id": "83ec7d7c-84cf-4b19-92df-6d776f8f4efd",
   "metadata": {},
   "outputs": [],
   "source": [
    "l1=[1,[2]]\n",
    "new=l1[1]   # [2]  will come again it is list,one element\n",
    "new[0]\n",
    "\n",
    "l1[1][0]"
   ]
  },
  {
   "cell_type": "code",
   "execution_count": 67,
   "id": "24d3d7e0-0276-4dcf-932d-51148ac8c5c1",
   "metadata": {},
   "outputs": [
    {
     "data": {
      "text/plain": [
       "'A'"
      ]
     },
     "execution_count": 67,
     "metadata": {},
     "output_type": "execute_result"
    }
   ],
   "source": [
    "l1=[1,[2,'A']]\n",
    "l1[1][1]\n",
    "\n",
    "# 'A' is reprsented at index 1\n",
    "# So we given l1[1]  : [2,'A'] it is also a list\n",
    "# The list has two elements\n",
    "# 'A' at 1st index\n",
    "# l1[1][1]"
   ]
  },
  {
   "cell_type": "code",
   "execution_count": 79,
   "id": "aba10dbc-0f53-4392-b377-c096b05d5368",
   "metadata": {},
   "outputs": [
    {
     "name": "stdout",
     "output_type": "stream",
     "text": [
      "2\n"
     ]
    },
    {
     "data": {
      "text/plain": [
       "[1, ['A', 'B']]"
      ]
     },
     "execution_count": 79,
     "metadata": {},
     "output_type": "execute_result"
    }
   ],
   "source": [
    "l1=[1,      # 0\n",
    "    [1,['A','B']]  # 1\n",
    "   ]\n",
    "print(len(l1))\n",
    "l1[1]   "
   ]
  },
  {
   "cell_type": "code",
   "execution_count": 77,
   "id": "6be1bb5b-19b1-4769-96b2-a01d9f38a209",
   "metadata": {},
   "outputs": [
    {
     "data": {
      "text/plain": [
       "['A', 'B']"
      ]
     },
     "execution_count": 77,
     "metadata": {},
     "output_type": "execute_result"
    }
   ],
   "source": [
    "l1[1][1]"
   ]
  },
  {
   "cell_type": "code",
   "execution_count": 78,
   "id": "4775baf2-1a33-4094-9142-34f871b78ffe",
   "metadata": {},
   "outputs": [
    {
     "data": {
      "text/plain": [
       "'B'"
      ]
     },
     "execution_count": 78,
     "metadata": {},
     "output_type": "execute_result"
    }
   ],
   "source": [
    "l1[1][1][1]"
   ]
  },
  {
   "cell_type": "code",
   "execution_count": 111,
   "id": "ee973e3a-b326-430f-b6e3-9349f07e2950",
   "metadata": {},
   "outputs": [
    {
     "data": {
      "text/plain": [
       "'Apple'"
      ]
     },
     "execution_count": 111,
     "metadata": {},
     "output_type": "execute_result"
    }
   ],
   "source": [
    "l1=[1,2,[3,[4,[5,['Apple']]]]] #2\n",
    "[3,[4,[5,['Apple']]]] #1\n",
    "[4,[5,['Apple']]]  #1\n",
    "[5,['Apple']]    #1 \n",
    "['Apple']    #0\n",
    "'Apple'   \n",
    "l1[2][1][1][1][0]"
   ]
  },
  {
   "cell_type": "code",
   "execution_count": 81,
   "id": "c727abd3-5bed-4ec8-ace4-c5d5af7bddd0",
   "metadata": {},
   "outputs": [
    {
     "data": {
      "text/plain": [
       "3"
      ]
     },
     "execution_count": 81,
     "metadata": {},
     "output_type": "execute_result"
    }
   ],
   "source": [
    "l1=[1,\n",
    "    2,\n",
    "    [3,[4,[5,['Apple']]]]\n",
    "   ]\n",
    "len(l1)"
   ]
  },
  {
   "cell_type": "code",
   "execution_count": 90,
   "id": "4942722c-fd59-4bf0-bffa-19193cb2c217",
   "metadata": {},
   "outputs": [
    {
     "name": "stdout",
     "output_type": "stream",
     "text": [
      "2\n"
     ]
    },
    {
     "data": {
      "text/plain": [
       "[3, [4, [5, ['Apple']]]]"
      ]
     },
     "execution_count": 90,
     "metadata": {},
     "output_type": "execute_result"
    }
   ],
   "source": [
    "print(len(l1[2]))\n",
    "l1[2]"
   ]
  },
  {
   "cell_type": "code",
   "execution_count": null,
   "id": "1c8cdf03-4e2a-4d9a-9269-f325bbffefef",
   "metadata": {},
   "outputs": [],
   "source": [
    "print(len(l1[2]))\n",
    "l1[2]"
   ]
  },
  {
   "cell_type": "code",
   "execution_count": 87,
   "id": "c8733601-0309-4bfb-8159-ab814506945d",
   "metadata": {},
   "outputs": [
    {
     "data": {
      "text/plain": [
       "'Apple'"
      ]
     },
     "execution_count": 87,
     "metadata": {},
     "output_type": "execute_result"
    }
   ],
   "source": [
    "l1[2][1][1][1][0]"
   ]
  },
  {
   "cell_type": "code",
   "execution_count": null,
   "id": "b59c846d-6396-451d-bed0-61e9dd2fd04c",
   "metadata": {},
   "outputs": [],
   "source": [
    "l1=['Apple',1,'Solapur',['cherry"
   ]
  },
  {
   "cell_type": "code",
   "execution_count": 95,
   "id": "1537f096-9efa-4665-9278-fbb2d9a7bd4d",
   "metadata": {},
   "outputs": [
    {
     "data": {
      "text/plain": [
       "'cherry'"
      ]
     },
     "execution_count": 95,
     "metadata": {},
     "output_type": "execute_result"
    }
   ],
   "source": [
    "list1=[[[[[[1,'cherry']]]]]]\n",
    "list1[0][0][0][0][0][1]"
   ]
  },
  {
   "cell_type": "code",
   "execution_count": 105,
   "id": "1a8092f2-0d9c-4dd0-a06b-b8d2dd84ceb0",
   "metadata": {},
   "outputs": [
    {
     "data": {
      "text/plain": [
       "'Simbaji'"
      ]
     },
     "execution_count": 105,
     "metadata": {},
     "output_type": "execute_result"
    }
   ],
   "source": [
    "list1=['MH',\n",
    "       ['Nagpur',\n",
    "        ['Orange',\n",
    "         ['likes',['king'],['shivaji',['Son',['Simbaji']]]]]]]\n",
    "list1[1][1][1][2][1][1][0]"
   ]
  },
  {
   "cell_type": "code",
   "execution_count": null,
   "id": "b906e7c8-c50a-47a5-a6cd-905f31541656",
   "metadata": {},
   "outputs": [],
   "source": [
    "# in operator\n",
    "# index : for loop\n",
    "# mutability check\n",
    "# slicing\n",
    "\n",
    "# positive index\n",
    "# negative index\n",
    "# both pos and neg"
   ]
  },
  {
   "cell_type": "code",
   "execution_count": null,
   "id": "f050eb14-d43c-4a2d-9a7e-9bccac9f6277",
   "metadata": {},
   "outputs": [],
   "source": [
    "# Tomorrow mcq exam"
   ]
  },
  {
   "cell_type": "code",
   "execution_count": 2,
   "id": "d95ce84d-f77d-4365-b5d1-3b3e0f312c42",
   "metadata": {},
   "outputs": [
    {
     "name": "stdout",
     "output_type": "stream",
     "text": [
      "The positive index of 1 is 0\n",
      "The positive index of 2 is 1\n",
      "The positive index of 3 is 2\n",
      "The positive index of A is 3\n",
      "The positive index of B is 4\n",
      "The positive index of apple is 5\n",
      "The positive index of Ball is 6\n",
      "The positive index of True is 7\n",
      "The positive index of False is 8\n",
      "The positive index of C is 9\n"
     ]
    }
   ],
   "source": [
    "l4=[1,2,3,'A','B','apple','Ball',True,False,'C']\n",
    "for i in range(len(l4)):\n",
    "    print(f\"The positive index of {l4[i] } is {i}\")"
   ]
  },
  {
   "cell_type": "code",
   "execution_count": 4,
   "id": "3b446092-f518-49d1-b06d-a3b8c6c224f2",
   "metadata": {},
   "outputs": [
    {
     "name": "stdout",
     "output_type": "stream",
     "text": [
      "The positive index of 1 is -10\n",
      "The positive index of 2 is -9\n",
      "The positive index of 3 is -8\n",
      "The positive index of A is -7\n",
      "The positive index of B is -6\n",
      "The positive index of apple is -5\n",
      "The positive index of Ball is -4\n",
      "The positive index of True is -3\n",
      "The positive index of False is -2\n",
      "The positive index of C is -1\n"
     ]
    }
   ],
   "source": [
    "for i in range(len(l4)):\n",
    "    print(f\"The positive index of {l4[i]} is {i-len(l4)}\")"
   ]
  },
  {
   "cell_type": "code",
   "execution_count": 6,
   "id": "c64e2005-3769-4ad2-b81a-5d348bf27459",
   "metadata": {},
   "outputs": [
    {
     "data": {
      "text/plain": [
       "[4]"
      ]
     },
     "execution_count": 6,
     "metadata": {},
     "output_type": "execute_result"
    }
   ],
   "source": [
    "l=[1,2,3,4,5,6,'A','B','C','D','E','F','G']\n",
    "l[3:-9:2]"
   ]
  },
  {
   "cell_type": "code",
   "execution_count": 8,
   "id": "a7826955-c2bf-4ca2-8623-9c7421698b5b",
   "metadata": {},
   "outputs": [
    {
     "data": {
      "text/plain": [
       "['E', 'C', 'A']"
      ]
     },
     "execution_count": 8,
     "metadata": {},
     "output_type": "execute_result"
    }
   ],
   "source": [
    "l[-3:-9:-2]"
   ]
  },
  {
   "cell_type": "markdown",
   "id": "89b9ea61-d176-497c-aee0-830000981817",
   "metadata": {},
   "source": [
    "**List Methods**"
   ]
  },
  {
   "cell_type": "code",
   "execution_count": 9,
   "id": "ead18a72-2111-4c9f-96bc-245644a78af2",
   "metadata": {},
   "outputs": [
    {
     "data": {
      "text/plain": [
       "['__add__',\n",
       " '__class__',\n",
       " '__class_getitem__',\n",
       " '__contains__',\n",
       " '__delattr__',\n",
       " '__delitem__',\n",
       " '__dir__',\n",
       " '__doc__',\n",
       " '__eq__',\n",
       " '__format__',\n",
       " '__ge__',\n",
       " '__getattribute__',\n",
       " '__getitem__',\n",
       " '__getstate__',\n",
       " '__gt__',\n",
       " '__hash__',\n",
       " '__iadd__',\n",
       " '__imul__',\n",
       " '__init__',\n",
       " '__init_subclass__',\n",
       " '__iter__',\n",
       " '__le__',\n",
       " '__len__',\n",
       " '__lt__',\n",
       " '__mul__',\n",
       " '__ne__',\n",
       " '__new__',\n",
       " '__reduce__',\n",
       " '__reduce_ex__',\n",
       " '__repr__',\n",
       " '__reversed__',\n",
       " '__rmul__',\n",
       " '__setattr__',\n",
       " '__setitem__',\n",
       " '__sizeof__',\n",
       " '__str__',\n",
       " '__subclasshook__',\n",
       " 'append',\n",
       " 'clear',\n",
       " 'copy',\n",
       " 'count',\n",
       " 'extend',\n",
       " 'index',\n",
       " 'insert',\n",
       " 'pop',\n",
       " 'remove',\n",
       " 'reverse',\n",
       " 'sort']"
      ]
     },
     "execution_count": 9,
     "metadata": {},
     "output_type": "execute_result"
    }
   ],
   "source": [
    "# string\n",
    "\n",
    "dir([])"
   ]
  },
  {
   "cell_type": "code",
   "execution_count": null,
   "id": "d7f28230-7f44-4d97-9948-3ff745f1af00",
   "metadata": {},
   "outputs": [],
   "source": [
    "'append',\n",
    " 'clear',\n",
    " 'copy',\n",
    " 'count',\n",
    " 'extend',\n",
    " 'index',\n",
    " 'insert',\n",
    " 'pop',\n",
    " 'remove',\n",
    " 'reverse',\n",
    " 'sort'"
   ]
  },
  {
   "cell_type": "markdown",
   "id": "6a3d7d59-1579-4a81-a133-294c7839ad81",
   "metadata": {},
   "source": [
    "**append**\n",
    "\n",
    "- adding elements to a list at last index\n",
    "\n",
    "- append method is very important\n",
    "\n",
    "- most of the time we will use append in the real time projects\n",
    "\n",
    "- When u add the value the original list will be overwrite\n",
    "\n",
    "- mutability only applicable for indexing"
   ]
  },
  {
   "cell_type": "code",
   "execution_count": 10,
   "id": "c4321971-d986-4569-a5fc-1a69b370d15b",
   "metadata": {},
   "outputs": [
    {
     "data": {
      "text/plain": [
       "['Apple', 'Ball', 'Cat']"
      ]
     },
     "execution_count": 10,
     "metadata": {},
     "output_type": "execute_result"
    }
   ],
   "source": [
    "l=['Apple','Ball','Cat']\n",
    "l"
   ]
  },
  {
   "cell_type": "code",
   "execution_count": null,
   "id": "b6f04f80-4be4-42a7-90f5-47f0055481a1",
   "metadata": {},
   "outputs": [],
   "source": [
    "# you want to add Doll in a given list\n",
    "\n",
    "# keywords vs methods\n",
    "\n",
    "len()\n",
    "max()\n",
    "min()\n",
    "reversed()\n",
    "sorted()\n",
    "\n",
    "# methods\n",
    "<package_name>.<method_name>\n",
    "# we already discussed\n",
    "# data types has own methods\n",
    "# <data type>.<method>\n",
    "# <packages>.<method>"
   ]
  },
  {
   "cell_type": "code",
   "execution_count": 13,
   "id": "27cf6193-94bf-40a7-a934-4848ddd18e9f",
   "metadata": {},
   "outputs": [
    {
     "data": {
      "text/plain": [
       "<function list.append(object, /)>"
      ]
     },
     "execution_count": 13,
     "metadata": {},
     "output_type": "execute_result"
    }
   ],
   "source": [
    "l.append"
   ]
  },
  {
   "cell_type": "code",
   "execution_count": 14,
   "id": "135b25bf-a315-4157-a170-f309bc2240b0",
   "metadata": {},
   "outputs": [
    {
     "ename": "TypeError",
     "evalue": "list.append() takes exactly one argument (0 given)",
     "output_type": "error",
     "traceback": [
      "\u001b[1;31m---------------------------------------------------------------------------\u001b[0m",
      "\u001b[1;31mTypeError\u001b[0m                                 Traceback (most recent call last)",
      "Cell \u001b[1;32mIn[14], line 1\u001b[0m\n\u001b[1;32m----> 1\u001b[0m l\u001b[38;5;241m.\u001b[39mappend()\n",
      "\u001b[1;31mTypeError\u001b[0m: list.append() takes exactly one argument (0 given)"
     ]
    }
   ],
   "source": [
    "l.append()"
   ]
  },
  {
   "cell_type": "code",
   "execution_count": 19,
   "id": "58ec49bc-c681-41a9-86d8-09ffee1b0298",
   "metadata": {},
   "outputs": [],
   "source": [
    "l.append(\"Doll\")"
   ]
  },
  {
   "cell_type": "code",
   "execution_count": 20,
   "id": "16031868-7fbd-4a39-8bfb-45cc558ecc58",
   "metadata": {},
   "outputs": [
    {
     "data": {
      "text/plain": [
       "['Apple', 'Ball', 'Cat', 'Doll', 'Doll']"
      ]
     },
     "execution_count": 20,
     "metadata": {},
     "output_type": "execute_result"
    }
   ],
   "source": [
    "l"
   ]
  },
  {
   "cell_type": "code",
   "execution_count": 24,
   "id": "2db03259-2e02-40d4-af71-f7a188cd57f8",
   "metadata": {},
   "outputs": [
    {
     "data": {
      "text/plain": [
       "[1, 2, 3, 4, 100]"
      ]
     },
     "execution_count": 24,
     "metadata": {},
     "output_type": "execute_result"
    }
   ],
   "source": [
    "l1=[1,2,3,4]\n",
    "l1.append(100)\n",
    "l1"
   ]
  },
  {
   "cell_type": "code",
   "execution_count": 25,
   "id": "748989bc-0578-45ce-aef0-f34ba183b3ba",
   "metadata": {},
   "outputs": [
    {
     "data": {
      "text/plain": [
       "[10, 20, 'apple', ['A', 1], True]"
      ]
     },
     "execution_count": 25,
     "metadata": {},
     "output_type": "execute_result"
    }
   ],
   "source": [
    "l2=[]\n",
    "l2.append(10)\n",
    "l2.append(20)\n",
    "l2.append('apple')\n",
    "l2.append(['A',1])\n",
    "l2.append(True)\n",
    "l2"
   ]
  },
  {
   "cell_type": "code",
   "execution_count": null,
   "id": "9cdd7313-0abf-4e7a-8b55-90d17478b58b",
   "metadata": {},
   "outputs": [],
   "source": [
    "l2.append(100,200,300) # error\n",
    "# append takes only one argument,here we are providing 3 arguments"
   ]
  },
  {
   "cell_type": "markdown",
   "id": "a4ef26e7-86b2-4b63-9593-6073594027b5",
   "metadata": {},
   "source": [
    "**Append method used to save the output in a list**"
   ]
  },
  {
   "cell_type": "code",
   "execution_count": 26,
   "id": "6b6e501c-d00e-4512-a3a1-53722ce4aab0",
   "metadata": {},
   "outputs": [
    {
     "name": "stdout",
     "output_type": "stream",
     "text": [
      "1\n",
      "4\n",
      "9\n",
      "16\n",
      "25\n"
     ]
    }
   ],
   "source": [
    "for i in range(1,6):\n",
    "    print(i*i)"
   ]
  },
  {
   "cell_type": "code",
   "execution_count": 29,
   "id": "86e65b5c-0e9e-41c6-b22c-636428af6a46",
   "metadata": {},
   "outputs": [
    {
     "name": "stdout",
     "output_type": "stream",
     "text": [
      "1\n",
      "4\n",
      "9\n",
      "16\n",
      "25\n"
     ]
    },
    {
     "data": {
      "text/plain": [
       "[1, 4, 9, 16, 25]"
      ]
     },
     "execution_count": 29,
     "metadata": {},
     "output_type": "execute_result"
    }
   ],
   "source": [
    "square_list=[]\n",
    "for i in range(1,6):\n",
    "    print(i*i)\n",
    "    square_list.append(i*i)\n",
    "# print === square_list.append\n",
    "square_list"
   ]
  },
  {
   "cell_type": "code",
   "execution_count": 31,
   "id": "66347845-3b71-4b15-9ee0-5db284f710dd",
   "metadata": {},
   "outputs": [
    {
     "data": {
      "text/plain": [
       "[1, 4, 9, 16, 25]"
      ]
     },
     "execution_count": 31,
     "metadata": {},
     "output_type": "execute_result"
    }
   ],
   "source": [
    "square_list=[]\n",
    "for i in range(1,6):\n",
    "    square_list.append(i*i)\n",
    "# print === square_list.append\n",
    "square_list"
   ]
  },
  {
   "cell_type": "code",
   "execution_count": 30,
   "id": "553150dc-114c-4f2d-a19e-aa98d6286d8d",
   "metadata": {},
   "outputs": [],
   "source": [
    "s=''\n",
    "for i in 'python':\n",
    "    s=s+i\n",
    "\n",
    "# str= 'hai hai hai'\n",
    "# what are ids of 'a'\n",
    "# save the ids in the list"
   ]
  },
  {
   "cell_type": "code",
   "execution_count": 38,
   "id": "ef9a7391-ddbb-4e60-80b3-b960af1a9ca2",
   "metadata": {},
   "outputs": [
    {
     "data": {
      "text/plain": [
       "([1, 5, 9], 15)"
      ]
     },
     "execution_count": 38,
     "metadata": {},
     "output_type": "execute_result"
    }
   ],
   "source": [
    "str= 'hai hai hai'\n",
    "id_list=[]\n",
    "for i in range(len(str)):\n",
    "    if str[i] =='a':\n",
    "        id_list.append(i)\n",
    "id_list,sum(id_list)"
   ]
  },
  {
   "cell_type": "code",
   "execution_count": 37,
   "id": "9c454bd6-cdd3-4f78-911f-b1d3f9de6ccd",
   "metadata": {},
   "outputs": [
    {
     "data": {
      "text/plain": [
       "15"
      ]
     },
     "execution_count": 37,
     "metadata": {},
     "output_type": "execute_result"
    }
   ],
   "source": [
    "summ=0\n",
    "str= 'hai hai hai'\n",
    "for i in range(len(str)):\n",
    "    if str[i] =='a':\n",
    "        summ=summ+i\n",
    "summ\n",
    "\n",
    "# summation wrapper is not required in lists \n",
    "# we can add the ids of in the lsit"
   ]
  },
  {
   "cell_type": "code",
   "execution_count": null,
   "id": "122b5ec8-1e3c-4bc5-8254-10a91ed4b71e",
   "metadata": {},
   "outputs": [],
   "source": [
    "#Q2) l1=['Hyd','Mumbai,'Chennai','blr']\n",
    "# ans=['Mumbai','Chennai']\n",
    "# we want elements which are len of element >4\n",
    "\n",
    "# Q3)l1=['Hyd','Mum#bai,'Chen#nai','blr']\n",
    "# ans=['Mum#bai','Chen#nai']\n",
    "# we want elements which are having '#'\n",
    "\n",
    "\n",
    "#Q4) l1=['Hyd','Mumbai,'Chennai','blr']\n",
    "# ans=['Mumbai','Chennai']\n",
    "# we want elements which are len of element >4\n"
   ]
  },
  {
   "cell_type": "code",
   "execution_count": 3,
   "id": "24031b6e-4aac-4d55-babc-92865ecb5309",
   "metadata": {},
   "outputs": [],
   "source": [
    "#Q2) l1=['Hyd','Mumbai,'Chennai','blr']\n",
    "# ans=['Mumbai','Chennai']\n",
    "# we want elements which are len of element >4\n"
   ]
  },
  {
   "cell_type": "code",
   "execution_count": 4,
   "id": "2f58e73c-4eb5-4a6a-beda-1abb8f0a0272",
   "metadata": {},
   "outputs": [
    {
     "data": {
      "text/plain": [
       "['Mumbai', 'Chennai']"
      ]
     },
     "execution_count": 4,
     "metadata": {},
     "output_type": "execute_result"
    }
   ],
   "source": [
    "l1=['Hyd','Mumbai','Chennai','blr']\n",
    "ans=[]\n",
    "for i in l1:\n",
    "    if len(i)>4:\n",
    "        ans.append(i)\n",
    "ans"
   ]
  },
  {
   "cell_type": "code",
   "execution_count": 6,
   "id": "a750eec7-4642-41b5-8609-e1879f49ce08",
   "metadata": {},
   "outputs": [
    {
     "data": {
      "text/plain": [
       "['Mum#bai', 'Chen#nai']"
      ]
     },
     "execution_count": 6,
     "metadata": {},
     "output_type": "execute_result"
    }
   ],
   "source": [
    "#Q2)\n",
    "l1=['Hyd','Mum#bai','Chen#nai','blr']\n",
    "ans=[]\n",
    "for i in l1:\n",
    "    if '#' in i:\n",
    "        ans.append(i)\n",
    "ans"
   ]
  },
  {
   "cell_type": "code",
   "execution_count": 10,
   "id": "76805abb-0508-423d-90be-10e9d8209777",
   "metadata": {},
   "outputs": [
    {
     "data": {
      "text/plain": [
       "True"
      ]
     },
     "execution_count": 10,
     "metadata": {},
     "output_type": "execute_result"
    }
   ],
   "source": [
    "'nadeem' in '#'  # 'nadeem' is available in '#'\n",
    "'#' in 'nadeem'  # '#' is available in 'nadeem'\n",
    "'nad##m' in '#'  # 'nad##m' is available in '#'\n",
    "'#' in 'nad##m'  # '#' is available in 'nad##m'"
   ]
  },
  {
   "cell_type": "code",
   "execution_count": null,
   "id": "76bc9eca-3cd1-4104-b26e-66a77d7f2e6b",
   "metadata": {},
   "outputs": [],
   "source": [
    "# Q3)l1=['Hyd','Mum#bai','Chen#nai','blr']\n",
    "#  ans=['Mum#bai'',Chen#nai']  \n",
    "#  we want lements which are having '#'"
   ]
  },
  {
   "cell_type": "code",
   "execution_count": 13,
   "id": "8448c334-3039-4e6b-ac1d-603f2899e5be",
   "metadata": {},
   "outputs": [
    {
     "data": {
      "text/plain": [
       "['Hyd', 'Mumbai', 'Chennai', 'Blr']"
      ]
     },
     "execution_count": 13,
     "metadata": {},
     "output_type": "execute_result"
    }
   ],
   "source": [
    "# Q4)l1=['hyd','mumbai','chennai','blr']\n",
    "#  ans= ['Hyd','Mumbai','Chennai','Blr']\n",
    "#  we want lements which are len of element >4\n",
    "l1=['hyd','mumbai','chennai','blr']\n",
    "ans=[]\n",
    "for i in l1:\n",
    "        ans.append(i.capitalize())\n",
    "ans"
   ]
  },
  {
   "cell_type": "code",
   "execution_count": 15,
   "id": "7a012b7a-42ee-4a97-9583-ba9d13566ae7",
   "metadata": {},
   "outputs": [
    {
     "data": {
      "text/plain": [
       "'Hello Im Learning Python'"
      ]
     },
     "execution_count": 15,
     "metadata": {},
     "output_type": "execute_result"
    }
   ],
   "source": [
    "#What is the difference between capitalize and title\n",
    "str1='hello im learning python'\n",
    "#Make every word capitalize\n",
    "str1.title()"
   ]
  },
  {
   "cell_type": "code",
   "execution_count": null,
   "id": "315704ac-bcf5-451c-a14a-6d37a31f25ad",
   "metadata": {},
   "outputs": [],
   "source": [
    "# Do the same using capitalize methods\n",
    "# step-1: split the string\n",
    "# Step-2: Take empty list\n",
    "# step-3: itewrate the each letter apply capitalize and append it\n",
    "# step-4:join the list"
   ]
  },
  {
   "cell_type": "code",
   "execution_count": null,
   "id": "a9c3d4d6-f2ba-4fe4-a7c0-ac7ef099e77c",
   "metadata": {},
   "outputs": [],
   "source": [
    "split_str=str1.split()\n"
   ]
  },
  {
   "cell_type": "markdown",
   "id": "0ed842f1-1474-49dd-931c-2967f9102b7d",
   "metadata": {},
   "source": [
    "**split-join**"
   ]
  },
  {
   "cell_type": "markdown",
   "id": "7fccf2a7-81ca-4141-b931-63061cf1b6e9",
   "metadata": {},
   "source": [
    "- split will apply for strings ,to divide the words or characters\n",
    "\n",
    "- when we split the elements will be stored in a list format\n",
    "\n",
    "- Join is used  to combine the elements of a list in string format\n",
    "\n",
    "- **split-strings**\n",
    "\n",
    "- **join- list**"
   ]
  },
  {
   "cell_type": "code",
   "execution_count": 22,
   "id": "56403d24-75a8-4ec1-835c-af6c777820f9",
   "metadata": {},
   "outputs": [
    {
     "name": "stdout",
     "output_type": "stream",
     "text": [
      "['Hello', 'Im', 'Learning', 'Python']\n"
     ]
    },
    {
     "data": {
      "text/plain": [
       "'Hello Im Learning Python'"
      ]
     },
     "execution_count": 22,
     "metadata": {},
     "output_type": "execute_result"
    }
   ],
   "source": [
    "str1='hello im learning python'\n",
    "words=str1.split()\n",
    "new_words=[]\n",
    "for i in words:\n",
    "    new_words.append(i.capitalize())\n",
    "print(new_words)\n",
    "' '.join(new_words)\n"
   ]
  },
  {
   "cell_type": "code",
   "execution_count": null,
   "id": "97cbccc0-8a6e-41f4-9a30-aae81bc09656",
   "metadata": {},
   "outputs": [],
   "source": [
    "# calculate the distance between two points \n",
    "# a=[1,2]\n",
    "#b=[4,5]\n",
    "# a=[x1,x2]\n",
    "#b=[y1-y2]\n",
    "\n",
    "# step-0: import math\n",
    "# step-1: x2-x1\n",
    "# step-2: y2-y1\n",
    "# step-3: v11=v1**2\n",
    "# step-4: v22=v2**2\n",
    "# step-5: ans=math.sqrt(v11+v22)"
   ]
  },
  {
   "cell_type": "code",
   "execution_count": 35,
   "id": "01c1a543-e210-4e31-b9e4-f28f886e5811",
   "metadata": {
    "scrolled": true
   },
   "outputs": [
    {
     "name": "stdout",
     "output_type": "stream",
     "text": [
      "5.0\n"
     ]
    }
   ],
   "source": [
    "import math\n",
    "a=[1,1]\n",
    "b=[4,5]\n",
    "v1=b[0]-a[0]\n",
    "v2=b[1]-a[1]\n",
    "v11=v1**2\n",
    "v22=v2**2\n",
    "#ans=math.sqrt(v11+v22)\n",
    "ans=math.sqrt((v1**2)+(v2**2))\n",
    "print(ans)"
   ]
  },
  {
   "cell_type": "code",
   "execution_count": 31,
   "id": "ab4bfead-8201-4573-b1f5-8fe90fdfeb85",
   "metadata": {},
   "outputs": [
    {
     "name": "stdout",
     "output_type": "stream",
     "text": [
      "1.0\n"
     ]
    }
   ],
   "source": [
    "print(math.sqrt(math.pow(a[1]-a[0],2)+math.pow(b[1]-b[0],2)))"
   ]
  },
  {
   "cell_type": "code",
   "execution_count": null,
   "id": "33f39fa0-8f73-4407-ae7f-c4151e6efa16",
   "metadata": {},
   "outputs": [],
   "source": [
    "[1,2,3,4,5,4,3,2,1]\n",
    "[100,500,700,400,300,50]\n",
    "# similarity is upto some point they are increasing and then decreasing ..pyramid logic\n",
    "# these kind of questions will ask in amazon"
   ]
  },
  {
   "cell_type": "code",
   "execution_count": null,
   "id": "10b1fbf0-4a13-41b4-87a0-f9d15d8e61ca",
   "metadata": {},
   "outputs": [],
   "source": [
    "import math\n",
    "points=[[1,2],[2,3],[3,4]]\n",
    "val=[2,3]\n",
    "for i in points:\n",
    "    print(i[0],i[1])\n",
    "    print(val[0],val[1])\n",
    "    o1=val[0]-i[0]\n",
    "    o2=val[1]-i[1]\n",
    "    print(f\"{val[0]-i[0]+={o1},{val[1]-i[1]}={o2}\n",
    "    v11=o1**2\n",
    "    v22=o2**@"
   ]
  },
  {
   "cell_type": "code",
   "execution_count": 34,
   "id": "16c0527f-de5d-4807-991f-3ee88e3a5f4b",
   "metadata": {},
   "outputs": [
    {
     "name": "stdout",
     "output_type": "stream",
     "text": [
      "1.4142135623730951\n",
      "0.0\n",
      "1.4142135623730951\n",
      "maximum distance is :1.4142135623730951\n"
     ]
    }
   ],
   "source": [
    "import math\n",
    "points=[[1,2],[2,3],[3,4]]\n",
    "val=[2,3]\n",
    "max=0\n",
    "for i in points:\n",
    "    dist= math.sqrt(math.pow((val[0]-i[0]),2)+math.pow((val[1]-i[1]),2))\n",
    "    print(dist)\n",
    "    if max < dist:\n",
    "        max=dist\n",
    "print(f\"maximum distance is :{max}\")\n",
    "\n",
    "# calculate the diatnce between val[2,3] to each and every point\n",
    "# find the max dist"
   ]
  },
  {
   "cell_type": "code",
   "execution_count": null,
   "id": "8b0f799c-c0ed-4ecd-844a-9d28a2bac8e3",
   "metadata": {},
   "outputs": [],
   "source": [
    "# Q5)l1=['Hyd','Mumbai','chennai','blr']\n",
    "#  ans= ['Hyd','Mumbai']\n",
    "#  we want lements which are having first letter capital"
   ]
  },
  {
   "cell_type": "code",
   "execution_count": null,
   "id": "b5b355a8-549c-4ef0-a896-9a1a8ed8bbd3",
   "metadata": {},
   "outputs": [],
   "source": [
    "# Q6)l1=['Hyd','Mum#bai','Chen#nai','blr']\n",
    "#  ans_#=['Mum#bai'',Chen#nai']  \n",
    "#  ans_without_#=['Hyd'','blr']\n",
    "#  we want lements which are having '#'"
   ]
  },
  {
   "cell_type": "code",
   "execution_count": null,
   "id": "11fecc4e-015a-4ac1-9c34-09a9f9d8b97b",
   "metadata": {},
   "outputs": [],
   "source": [
    "# Q7) ask the user get 5 numbers randomly\n",
    "#     even_list and odd_list\n",
    "#     even numbers should append at even_list\n",
    "#     odd number should append at odd_list"
   ]
  },
  {
   "cell_type": "code",
   "execution_count": null,
   "id": "567dcd7a-7b9d-4f66-8181-fc830dc66c71",
   "metadata": {},
   "outputs": [],
   "source": [
    "# Q8) str='hello hai how are you'\n",
    "# Maximum len of word using split and max method\n",
    "# sum of all the indexes of the maximum len of word using append\n"
   ]
  },
  {
   "cell_type": "code",
   "execution_count": 1,
   "id": "54477dec-614e-499c-b324-071405abe85f",
   "metadata": {},
   "outputs": [
    {
     "data": {
      "text/plain": [
       "5"
      ]
     },
     "execution_count": 1,
     "metadata": {},
     "output_type": "execute_result"
    }
   ],
   "source": [
    "str='hello hai how are you'\n",
    "words=str.split()\n",
    "len_words=[]\n",
    "for i in words:\n",
    "    x=len(i)\n",
    "    len_words.append(x)\n",
    "max_len=max(len_words)\n",
    "for i in words:\n",
    "    if len(i) == max_len:\n",
    "        print(i)\n",
    "# first we are splitting\n",
    "# Then we are calculating each and every len of words and append to list\n",
    "# we are taking the max value from the list\n",
    "\n",
    "# again we are iterating words list\n",
    "# calculating len of each word\n",
    "# if that word length equal to max value\n",
    " # then that is our answer\n",
    "\n",
    "hello  == 0\n",
    "01234"
   ]
  },
  {
   "cell_type": "code",
   "execution_count": null,
   "id": "0e2e8aee-fb73-4769-a583-96e887d25e46",
   "metadata": {},
   "outputs": [],
   "source": []
  },
  {
   "cell_type": "code",
   "execution_count": null,
   "id": "7799c892-677d-447d-bb82-54643f870ec3",
   "metadata": {},
   "outputs": [],
   "source": [
    "# Q9) str1='virat.kohli@rcb.com, Rohit.sharma@mi.co, KL.Rahul@lucknow.com'\n",
    "# Firstname=[]  second name=[]  cname =[]\n",
    "# append first name should be in first name list\n",
    "#        second name shoul be in second name list\n",
    "#        thirs name will be in thirs name list"
   ]
  },
  {
   "cell_type": "code",
   "execution_count": null,
   "id": "f02ed468-ef05-4e53-a420-9f7e14699634",
   "metadata": {},
   "outputs": [],
   "source": [
    "# 10 )\n",
    "#  You have two lists\n",
    "# qns=['What is capital of India',\n",
    "      # 'Who is PM of india',\n",
    "      # 'Who is ICT ODI captian']\n",
    "# ans = ['Delhi','Modi','Rohit']\n",
    "\n",
    "# For i in qns:\n",
    "#     print(i)\n",
    "#     ans= delhi\n",
    "#      index should match\n",
    "#      delhi  modi\n",
    "#      marks= marks+1\n",
    "# print the total marks"
   ]
  },
  {
   "cell_type": "markdown",
   "id": "8a8bcd45-d981-4678-9dab-0d73078868f8",
   "metadata": {},
   "source": [
    "**22nd july**"
   ]
  },
  {
   "cell_type": "code",
   "execution_count": 8,
   "id": "525a619e-af1e-4346-a3a2-220433b32336",
   "metadata": {},
   "outputs": [
    {
     "name": "stdin",
     "output_type": "stream",
     "text": [
      "What is capital of India delhi\n",
      "Who is PM of india modi\n",
      "Who is ICT ODI captian Kohli\n"
     ]
    },
    {
     "name": "stdout",
     "output_type": "stream",
     "text": [
      "The total marks are: 2\n",
      "Correct answer: 2\n",
      "wrong answers: 1\n"
     ]
    }
   ],
   "source": [
    "qns=['What is capital of India',\n",
    "       'Who is PM of india',\n",
    "       'Who is ICT ODI captian']\n",
    "ans_list= ['Delhi','Modi','Rohit']\n",
    "marks=0\n",
    "crct_ans,wrong_ans=0,0\n",
    "for i in range(len(qns)):\n",
    "    ans=input(qns[i])\n",
    "    if ans.lower() == ans_list[i].lower():\n",
    "        marks=marks+1\n",
    "        crct_ans+=1\n",
    "    else:\n",
    "        wrong_ans+=1\n",
    "print(\"The total marks are:\",marks)\n",
    "print(\"Correct answer:\",crct_ans)\n",
    "print(\"wrong answers:\",wrong_ans)"
   ]
  },
  {
   "cell_type": "markdown",
   "id": "664c277d-f212-4859-8f4c-e9c09b2e4768",
   "metadata": {},
   "source": [
    "**Methods**"
   ]
  },
  {
   "cell_type": "code",
   "execution_count": 9,
   "id": "d603f529-b12d-444e-abe3-8260afdf2ebb",
   "metadata": {},
   "outputs": [
    {
     "data": {
      "text/plain": [
       "['__add__',\n",
       " '__class__',\n",
       " '__class_getitem__',\n",
       " '__contains__',\n",
       " '__delattr__',\n",
       " '__delitem__',\n",
       " '__dir__',\n",
       " '__doc__',\n",
       " '__eq__',\n",
       " '__format__',\n",
       " '__ge__',\n",
       " '__getattribute__',\n",
       " '__getitem__',\n",
       " '__getstate__',\n",
       " '__gt__',\n",
       " '__hash__',\n",
       " '__iadd__',\n",
       " '__imul__',\n",
       " '__init__',\n",
       " '__init_subclass__',\n",
       " '__iter__',\n",
       " '__le__',\n",
       " '__len__',\n",
       " '__lt__',\n",
       " '__mul__',\n",
       " '__ne__',\n",
       " '__new__',\n",
       " '__reduce__',\n",
       " '__reduce_ex__',\n",
       " '__repr__',\n",
       " '__reversed__',\n",
       " '__rmul__',\n",
       " '__setattr__',\n",
       " '__setitem__',\n",
       " '__sizeof__',\n",
       " '__str__',\n",
       " '__subclasshook__',\n",
       " 'append',\n",
       " 'clear',\n",
       " 'copy',\n",
       " 'count',\n",
       " 'extend',\n",
       " 'index',\n",
       " 'insert',\n",
       " 'pop',\n",
       " 'remove',\n",
       " 'reverse',\n",
       " 'sort']"
      ]
     },
     "execution_count": 9,
     "metadata": {},
     "output_type": "execute_result"
    }
   ],
   "source": [
    "dir([])"
   ]
  },
  {
   "cell_type": "code",
   "execution_count": null,
   "id": "cc9e853e-b6fe-4219-8dc8-ae0a716ff445",
   "metadata": {},
   "outputs": [],
   "source": [
    "'clear',\n",
    " 'copy',\n",
    " 'count',\n",
    " 'extend',\n",
    " 'index',\n",
    " 'insert',\n",
    " 'pop',\n",
    " 'remove',\n",
    " 'reverse',\n",
    " 'sort']\n",
    "\n",
    "# append Vs extend  Vs concatenation  Vs insert\n",
    "# pop Vs remove\n",
    "# reversed Vs reverse\n",
    "# sort VS sorted\n",
    "# index\n",
    "# count\n",
    "# clear and copy\n",
    "\n",
    "# Methods vs keywords\n",
    "# keywords: inbuilt functions\n",
    "# print()  max() min() len(<>) sorted(<>) reversed(<>)\n",
    "# methods\n",
    "#l.copy()\n",
    "# l.remove()"
   ]
  },
  {
   "cell_type": "markdown",
   "id": "dacb2fb5-da38-41ee-b980-80fa0b4e5b24",
   "metadata": {},
   "source": [
    "**append Vs extend  Vs concatenation  Vs insert**"
   ]
  },
  {
   "cell_type": "code",
   "execution_count": 55,
   "id": "f8ab2925-4504-4fca-b5d7-7e9556a83456",
   "metadata": {},
   "outputs": [
    {
     "name": "stdout",
     "output_type": "stream",
     "text": [
      "[1, 2, 3, 4, ['A', 'B', 'C', 'D']]\n",
      "['A', 'B', 'C', 'D']\n"
     ]
    }
   ],
   "source": [
    "l1=[1,2,3,4]\n",
    "l2=['A','B','C','D']\n",
    "l1.append(l2)\n",
    "print(l1)\n",
    "print(l2)\n",
    "\n",
    "# l list is overwrite "
   ]
  },
  {
   "cell_type": "code",
   "execution_count": 57,
   "id": "8afa22a5-0535-44df-a7e0-8371702f9f1d",
   "metadata": {},
   "outputs": [
    {
     "name": "stdout",
     "output_type": "stream",
     "text": [
      "[1, 2, 3, 4, 'A', 'B', 'C', 'D']\n",
      "['A', 'B', 'C', 'D']\n"
     ]
    }
   ],
   "source": [
    "l1=[1,2,3,4]\n",
    "l2=['A','B','C','D']\n",
    "l1.extend(l2) # ans stores in l1\n",
    "print(l1)\n",
    "print(l2)"
   ]
  },
  {
   "cell_type": "code",
   "execution_count": 59,
   "id": "1900011d-9692-4f24-b36f-ea8ef78a9298",
   "metadata": {},
   "outputs": [
    {
     "data": {
      "text/plain": [
       "[1, 2, 3, 4, 'A', 'B', 'C', 'D']"
      ]
     },
     "execution_count": 59,
     "metadata": {},
     "output_type": "execute_result"
    }
   ],
   "source": [
    "# extend means we are adding two lists\n",
    "l1=[1,2,3,4]\n",
    "l2=['A','B','C','D']\n",
    "l1+l2"
   ]
  },
  {
   "cell_type": "code",
   "execution_count": 58,
   "id": "c82b3b68-c112-43c4-987f-ab2413ce6a6a",
   "metadata": {},
   "outputs": [
    {
     "name": "stdout",
     "output_type": "stream",
     "text": [
      "[1, 2, 3, 4]\n",
      "['A', 'B', 'C', 'D', 1, 2, 3, 4]\n"
     ]
    }
   ],
   "source": [
    "l1=[1,2,3,4]\n",
    "l2=['A','B','C','D']\n",
    "l2.extend(l1) # ans stores in l2\n",
    "print(l1)\n",
    "print(l2)"
   ]
  },
  {
   "cell_type": "code",
   "execution_count": 60,
   "id": "aad56803-acfd-4509-b0b8-87734f2c8664",
   "metadata": {},
   "outputs": [
    {
     "name": "stdout",
     "output_type": "stream",
     "text": [
      "[1, 2, 3, 4, 'A', 'B', 'C', 'D']\n",
      "['A', 'B', 'C', 'D', 1, 2, 3, 4]\n",
      "[1, 2, 3, 4]\n",
      "['A', 'B', 'C', 'D']\n"
     ]
    }
   ],
   "source": [
    "l1=[1,2,3,4]\n",
    "l2=['A','B','C','D']\n",
    "print(l1+l2)\n",
    "print(l2+l1)\n",
    "print(l1)\n",
    "print(l2)"
   ]
  },
  {
   "cell_type": "code",
   "execution_count": 62,
   "id": "47778a3e-30e7-4bf7-a652-3b998ab6a0dd",
   "metadata": {},
   "outputs": [
    {
     "name": "stdout",
     "output_type": "stream",
     "text": [
      "[1, 2, 3, 4, 'a', 'p', 'p', 'l', 'e']\n"
     ]
    }
   ],
   "source": [
    "l1=[1,2,3,4]\n",
    "l2=['A','B','C','D']\n",
    "l1.extend('apple')\n",
    "print(l1)\n",
    "# [1,2,3,4,'a','p','p','l','e']"
   ]
  },
  {
   "cell_type": "code",
   "execution_count": 63,
   "id": "ee7c48b8-e1e4-4123-9b51-a8fd88a0fb51",
   "metadata": {},
   "outputs": [
    {
     "ename": "TypeError",
     "evalue": "list.extend() takes exactly one argument (4 given)",
     "output_type": "error",
     "traceback": [
      "\u001b[1;31m---------------------------------------------------------------------------\u001b[0m",
      "\u001b[1;31mTypeError\u001b[0m                                 Traceback (most recent call last)",
      "Cell \u001b[1;32mIn[63], line 2\u001b[0m\n\u001b[0;32m      1\u001b[0m l1\u001b[38;5;241m=\u001b[39m[\u001b[38;5;241m1\u001b[39m,\u001b[38;5;241m2\u001b[39m,\u001b[38;5;241m3\u001b[39m,\u001b[38;5;241m4\u001b[39m]\n\u001b[1;32m----> 2\u001b[0m l1\u001b[38;5;241m.\u001b[39mextend(\u001b[38;5;241m10\u001b[39m,\u001b[38;5;241m20\u001b[39m,\u001b[38;5;241m30\u001b[39m,\u001b[38;5;241m40\u001b[39m)\n\u001b[0;32m      3\u001b[0m l1\n",
      "\u001b[1;31mTypeError\u001b[0m: list.extend() takes exactly one argument (4 given)"
     ]
    }
   ],
   "source": [
    "l1=[1,2,3,4]\n",
    "l1.extend(10,20,30,40)\n",
    "l1\n",
    "# raises error befor extend takes only one argument but here we gib=ven 4 arguments\n"
   ]
  },
  {
   "cell_type": "markdown",
   "id": "b66639a8-7cf4-4588-a343-6adb6f7d61d8",
   "metadata": {},
   "source": [
    "- append just append the value with base data type\n",
    "\n",
    "- extend is concatenate the value,and it  list will be overwrite with the new values\n",
    "\n",
    "- extend can take any iterable format type i.e. string,list,tuple\n",
    "\n",
    "- extend and concatenation both are same\n",
    "\n",
    "- the list will not overwrite in conacatenation\n"
   ]
  },
  {
   "cell_type": "markdown",
   "id": "e56067ab-60d7-473c-904a-3f5daba9e98d",
   "metadata": {},
   "source": [
    "**index**\n",
    "\n",
    "- same like string only\n"
   ]
  },
  {
   "cell_type": "code",
   "execution_count": 65,
   "id": "03958a83-6e12-487a-9c57-c94e0d9e1319",
   "metadata": {},
   "outputs": [
    {
     "data": {
      "text/plain": [
       "(3, 6)"
      ]
     },
     "execution_count": 65,
     "metadata": {},
     "output_type": "execute_result"
    }
   ],
   "source": [
    "l1=[1,2,3,'Apple',10,20,'Apple',30,40]\n",
    "l1.index(2)\n",
    "i1=l1.index('Apple')   # case-1\n",
    "i2=l1.index('Apple',i1+1) # case-2\n",
    "i3=l1.index('Apple',2,5) # case-3\n",
    "i1,i2\n",
    "        "
   ]
  },
  {
   "cell_type": "code",
   "execution_count": 68,
   "id": "7a2827d1-6a2f-4aaa-9b7f-786cf4e278f4",
   "metadata": {},
   "outputs": [
    {
     "data": {
      "text/plain": [
       "(3, 4)"
      ]
     },
     "execution_count": 68,
     "metadata": {},
     "output_type": "execute_result"
    }
   ],
   "source": [
    "l1.index('Apple'),l1.index('Apple')+1"
   ]
  },
  {
   "cell_type": "markdown",
   "id": "3e629579-e399-488f-aa2d-e3b9ff172864",
   "metadata": {},
   "source": [
    "- case-1: directly get the index\n",
    "\n",
    "- case-2: Next value index , by providing start\n",
    "\n",
    "- case -3: Between the values"
   ]
  },
  {
   "cell_type": "markdown",
   "id": "703e96e5-b641-4a57-8784-fd566caa158b",
   "metadata": {},
   "source": [
    "**23rd july**"
   ]
  },
  {
   "cell_type": "code",
   "execution_count": null,
   "id": "07b8b88c-aa01-4bf1-877f-002e8de359c9",
   "metadata": {},
   "outputs": [],
   "source": [
    "- copy and clear"
   ]
  },
  {
   "cell_type": "markdown",
   "id": "1fdb821c-38bd-4624-8bb9-3bd7f3a00c28",
   "metadata": {},
   "source": [
    "**insert**\n",
    "\n",
    "- will insert the element based on the index\n",
    "\n",
    "- append will add the element at last only\n"
   ]
  },
  {
   "cell_type": "code",
   "execution_count": 2,
   "id": "b0eb7e02-c0fc-4b55-baab-ad4e2cf22661",
   "metadata": {},
   "outputs": [
    {
     "data": {
      "text/plain": [
       "[1, 2, 3, 'Banana', 'Apple', 10, 20, 'Apple', 40]"
      ]
     },
     "execution_count": 2,
     "metadata": {},
     "output_type": "execute_result"
    }
   ],
   "source": [
    "l1=[1,2,3,'Apple',10,20,'Apple',40]\n",
    "i1=l1.index('Apple')  # Apple index=3\n",
    "l1.insert(3,'Banana')  # insert banana before indexi1(3)\n",
    "l1           "
   ]
  },
  {
   "cell_type": "code",
   "execution_count": 6,
   "id": "12cf8f99-8d0b-48e5-9299-47ac49d0bd3b",
   "metadata": {},
   "outputs": [
    {
     "data": {
      "text/plain": [
       "[1, 2, 3, 'Apple', 10, 20, 'Apple', 'cherry', 40]"
      ]
     },
     "execution_count": 6,
     "metadata": {},
     "output_type": "execute_result"
    }
   ],
   "source": [
    "# insert cherry before 40\n",
    "# You need to find index of 40\n",
    "l1=[1,2,3,'Apple',10,20,'Apple',40]\n",
    "i1=l1.index(40)  \n",
    "l1.insert(i1,'cherry')\n",
    "l1\n"
   ]
  },
  {
   "cell_type": "code",
   "execution_count": 11,
   "id": "e16fc9b0-20df-481c-824a-40f992afcfc6",
   "metadata": {},
   "outputs": [
    {
     "data": {
      "text/plain": [
       "[1, 2, 3, 'Apple', 10, 20, 'Cherry', 'Apple', 40]"
      ]
     },
     "execution_count": 11,
     "metadata": {},
     "output_type": "execute_result"
    }
   ],
   "source": [
    "l1=[1,2,3,'Apple',10,20,'Apple',40]\n",
    "# insert cherry before the 2nd apple\n",
    "# step-1: find the index of 2nd apple\n",
    "# step-2: how to find the 2nd apple index \n",
    "# step-3: find the the index of 1st apple\n",
    "i1=l1.index('Apple')\n",
    "i2=l1.index('Apple',i1+1)\n",
    "l1.insert(i2,'Cherry')\n",
    "l1"
   ]
  },
  {
   "cell_type": "markdown",
   "id": "95745737-cab7-4a9e-b5ca-5a509e806674",
   "metadata": {},
   "source": [
    "**pop-remove-del**"
   ]
  },
  {
   "cell_type": "markdown",
   "id": "de4ac330-f754-41d6-93b2-fbd10a9110a1",
   "metadata": {},
   "source": [
    "**pop**\n",
    "\n",
    "- pop will remove the item\n",
    "\n",
    "- pop also display the item which is removing\n",
    "\n",
    "- pop will take one arugument :index\n",
    "\n",
    "- pop will remove the item based on index\n",
    "\n",
    "- if you don not provide any index, by default it will remove the last value\n",
    "\n",
    "- because the default index value is -1\n"
   ]
  },
  {
   "cell_type": "code",
   "execution_count": 13,
   "id": "82f17a6d-5f8a-46d9-a350-27c5cf82d9ee",
   "metadata": {},
   "outputs": [
    {
     "data": {
      "text/plain": [
       "[1, 2, 3, 'Apple', 10, 20, 'Apple']"
      ]
     },
     "execution_count": 13,
     "metadata": {},
     "output_type": "execute_result"
    }
   ],
   "source": [
    "l1=[1,2,3,'Apple',10,20,'Apple',40]\n",
    "l1.pop()\n",
    "l1"
   ]
  },
  {
   "cell_type": "code",
   "execution_count": 16,
   "id": "9d20cabb-cb34-4e9c-9bfd-43a90cae768e",
   "metadata": {},
   "outputs": [
    {
     "data": {
      "text/plain": [
       "[1, 2, 3, 10, 20, 'Apple', 40]"
      ]
     },
     "execution_count": 16,
     "metadata": {},
     "output_type": "execute_result"
    }
   ],
   "source": [
    "# removing 1st apple(we are concentrating on 1st apple)\n",
    "l1=[1,2,3,'Apple',10,20,'Apple',40]\n",
    "i1=l1.index('Apple')\n",
    "l1.pop(i1)\n",
    "l1"
   ]
  },
  {
   "cell_type": "code",
   "execution_count": 17,
   "id": "b9b5d78c-7c7e-4162-9d15-a52490397f23",
   "metadata": {},
   "outputs": [
    {
     "data": {
      "text/plain": [
       "[1, 2, 3, 'Apple', 10, 20, 40]"
      ]
     },
     "execution_count": 17,
     "metadata": {},
     "output_type": "execute_result"
    }
   ],
   "source": [
    "#removing 2nd apple (We are concentrating on 2nd apple)\n",
    "l1=[1,2,3,'Apple',10,20,'Apple',40]\n",
    "i1=l1.index('Apple')\n",
    "i2=l1.index('Apple',i1+1)\n",
    "l1.pop(i2)\n",
    "l1"
   ]
  },
  {
   "cell_type": "code",
   "execution_count": 26,
   "id": "8d0a2fcc-be09-4d55-8783-51a6afa22392",
   "metadata": {},
   "outputs": [
    {
     "data": {
      "text/plain": [
       "[1, 2, 3, 10, 20, 40]"
      ]
     },
     "execution_count": 26,
     "metadata": {},
     "output_type": "execute_result"
    }
   ],
   "source": [
    "3 Removing 2 apples one after the other\n",
    "l1=[1,2,3,'Apple',10,20,'Apple',40]\n",
    "i1=l1.index('Apple')\n",
    "l1.pop(i1) # output list: [1,2,3,10,20,'Apple',40]\n",
    "##########################################\n",
    "i2=l1.index('Apple')\n",
    "l1.pop(i2)\n",
    "l1"
   ]
  },
  {
   "cell_type": "code",
   "execution_count": null,
   "id": "8d13082a-e896-4ee3-92d0-1ee8fb5175ca",
   "metadata": {},
   "outputs": [],
   "source": [
    "str1='hai apple how are you apple im good apple thank you apple'\n",
    "#o/p: 'hai how are you im good thank you'\n",
    "# idea:\n",
    "# split it\n",
    "# iterate off\n",
    "# pop it\n",
    "# join it\n"
   ]
  },
  {
   "cell_type": "code",
   "execution_count": null,
   "id": "e946192b-458f-4dd2-9cf0-c600e4868c1d",
   "metadata": {},
   "outputs": [],
   "source": []
  },
  {
   "cell_type": "code",
   "execution_count": 46,
   "id": "a0caf02a-e2aa-40b6-88a0-c16beb98cd71",
   "metadata": {},
   "outputs": [
    {
     "name": "stdout",
     "output_type": "stream",
     "text": [
      "['hai', 'apple', 'how', 'are', 'you', 'apple', 'im', 'good', 'apple', 'thank', 'you', 'apple']\n"
     ]
    },
    {
     "data": {
      "text/plain": [
       "'hai how are you im good thank you'"
      ]
     },
     "execution_count": 46,
     "metadata": {},
     "output_type": "execute_result"
    }
   ],
   "source": [
    "str1='hai apple how are you apple im good apple thank you apple'.split()\n",
    "print(str1)\n",
    "apple_count=str1.count('apple')\n",
    "for i in range(apple_count):\n",
    "    i1=str1.index('apple')\n",
    "    str1.pop(i1)\n",
    "' '.join(str1)\n",
    "\n",
    "\n",
    "    "
   ]
  },
  {
   "cell_type": "markdown",
   "id": "ff66caff-2624-4fd2-b49b-a6c2a1c9d847",
   "metadata": {},
   "source": [
    "- pop will take the index\n",
    "\n",
    "- remove will take the value\n",
    "\n",
    "- remove will delete the first occurence of the element"
   ]
  },
  {
   "cell_type": "code",
   "execution_count": 50,
   "id": "3948576e-4e5e-43c3-a4db-b4c84e98c2a3",
   "metadata": {},
   "outputs": [
    {
     "data": {
      "text/plain": [
       "[1, 2, 3, 10, 20, 40]"
      ]
     },
     "execution_count": 50,
     "metadata": {},
     "output_type": "execute_result"
    }
   ],
   "source": [
    "l1=[1,2,3,'Apple',10,20,'Apple',40]\n",
    "l1.remove('Apple')\n",
    "l1\n",
    "l1.remove('Apple')\n",
    "l1"
   ]
  },
  {
   "cell_type": "code",
   "execution_count": 54,
   "id": "5ba381b5-95c3-4d52-b7f2-5f8220249da9",
   "metadata": {},
   "outputs": [
    {
     "name": "stdout",
     "output_type": "stream",
     "text": [
      "['hai', 'apple', 'how', 'are', 'you', 'apple', 'im', 'good', 'apple', 'thank', 'you', 'apple']\n"
     ]
    },
    {
     "data": {
      "text/plain": [
       "'hai how are you im good thank you'"
      ]
     },
     "execution_count": 54,
     "metadata": {},
     "output_type": "execute_result"
    }
   ],
   "source": [
    "str1='hai apple how are you apple im good apple thank you apple'\n",
    "#o/p: 'hai how are you im good thank you'\n",
    "# idea:\n",
    "# split it\n",
    "# iterate off\n",
    "# pop it\n",
    "# join it\n",
    "\n",
    "str1='hai apple how are you apple im good apple thank you apple'.split()\n",
    "print(str1)\n",
    "apple_count=str1.count('apple')\n",
    "for i in range(apple_count):\n",
    "    str1.remove('apple')\n",
    "' '.join(str1)\n"
   ]
  },
  {
   "cell_type": "markdown",
   "id": "44a94e00-dfe5-4ac2-b075-ad1ff3a480df",
   "metadata": {},
   "source": [
    "**del**\n",
    "\n",
    "- del is a keyword"
   ]
  },
  {
   "cell_type": "code",
   "execution_count": 56,
   "id": "b4f5cf3b-cd93-4535-a108-ecf6cb288464",
   "metadata": {},
   "outputs": [
    {
     "data": {
      "text/plain": [
       "[1, 2, 3, 10, 20, 'Apple', 40]"
      ]
     },
     "execution_count": 56,
     "metadata": {},
     "output_type": "execute_result"
    }
   ],
   "source": [
    "l1=[1,2,3,'Apple',10,20,'Apple',40]\n",
    "del(l1[3])\n",
    "l1"
   ]
  },
  {
   "cell_type": "code",
   "execution_count": null,
   "id": "6e723594-5323-4e0d-bee0-886907b436b4",
   "metadata": {},
   "outputs": [],
   "source": []
  },
  {
   "cell_type": "code",
   "execution_count": null,
   "id": "1cdda5fa-7f17-4d61-8173-f489447e9543",
   "metadata": {},
   "outputs": [],
   "source": [
    "# append Vs extend  Vs concatenation  Vs insert"
   ]
  },
  {
   "cell_type": "code",
   "execution_count": 18,
   "id": "f68a5a64-b2e2-4d41-97b4-9910a732ee29",
   "metadata": {},
   "outputs": [
    {
     "name": "stdout",
     "output_type": "stream",
     "text": [
      "[10, 20, 'apple', 'bat', [50, 60, 'mango']]\n",
      "[10, 20, 'apple', 'bat', [50, 60, 'mango'], 9]\n",
      "[10, 20, 'apple', 'bat', [50, 60, 'mango'], 9, 'girl']\n",
      "[10, 20, 'apple', 'bat', [50, 60, 'mango'], 9, 'girl', [10, 'ant']]\n"
     ]
    }
   ],
   "source": [
    "l1=[10,20,'apple','bat']\n",
    "l2=[50,60,'mango']\n",
    "l1.append(l2)  # adding a list into another list\n",
    "print(l1)\n",
    "l1.append(9)   # appending single element at last\n",
    "print(l1)\n",
    "l1.append('girl')\n",
    "print(l1)\n",
    "l1.append([10,'ant'])\n",
    "print(l1)"
   ]
  },
  {
   "cell_type": "code",
   "execution_count": 25,
   "id": "d06fa0d8-5bb7-4e28-829e-abbe49c57a23",
   "metadata": {},
   "outputs": [
    {
     "name": "stdout",
     "output_type": "stream",
     "text": [
      "[10, 20, 'apple', 'bat', 50, 60, 'mango']\n",
      "['man', 10, 20, 'apple', 'bat', 50, 60, 'mango']\n"
     ]
    }
   ],
   "source": [
    "l1=[10,20,'apple','bat']\n",
    "l2=[50,60,'mango']\n",
    "l1.extend(l2)\n",
    "print(l1)\n",
    "l3=['man']\n",
    "l3.extend(l1)\n",
    "print(l3)"
   ]
  },
  {
   "cell_type": "code",
   "execution_count": 30,
   "id": "53cbd0df-317f-4d5c-9769-243adeee03bc",
   "metadata": {},
   "outputs": [
    {
     "data": {
      "text/plain": [
       "[10, 20, 'apple', 'bat', 9, 10]"
      ]
     },
     "execution_count": 30,
     "metadata": {},
     "output_type": "execute_result"
    }
   ],
   "source": [
    "#cocatenation\n",
    "l1=[10,20,'apple','bat']\n",
    "l2=[50,60,'mango']\n",
    "l2+l1\n",
    "l1+['mango']\n",
    "l1+[9,10]"
   ]
  },
  {
   "cell_type": "code",
   "execution_count": 37,
   "id": "012b6456-76c5-4026-8b90-c29cfdd3c1f2",
   "metadata": {},
   "outputs": [
    {
     "name": "stdout",
     "output_type": "stream",
     "text": [
      "[10, 100, 20, 'apple', 'bat']\n"
     ]
    }
   ],
   "source": [
    "#insert\n",
    "l1=[10,20,'apple','bat']\n",
    "l2=[50,60,'mango']\n",
    "l1.insert(1,100)\n",
    "print(l1)\n",
    "# if we mention more tha the length of list insert will add the elemnt at last\n",
    "# it takes 2 arguments one is indexa and other one is element to add"
   ]
  },
  {
   "cell_type": "code",
   "execution_count": 41,
   "id": "0e95eb87-be55-4811-9b9b-ccfabe80f651",
   "metadata": {},
   "outputs": [
    {
     "data": {
      "text/plain": [
       "'apple'"
      ]
     },
     "execution_count": 41,
     "metadata": {},
     "output_type": "execute_result"
    }
   ],
   "source": [
    "#pop\n",
    "l1=[10,20,'apple','bat']\n",
    "l1.pop(2)\n"
   ]
  },
  {
   "cell_type": "code",
   "execution_count": 42,
   "id": "ab2688a8-b291-476e-8641-d388ac3d3b38",
   "metadata": {},
   "outputs": [
    {
     "name": "stdout",
     "output_type": "stream",
     "text": [
      "[10, 20, 'bat']\n"
     ]
    }
   ],
   "source": [
    "print(l1)"
   ]
  },
  {
   "cell_type": "code",
   "execution_count": 45,
   "id": "90cc287f-e544-4760-9788-e347a1948780",
   "metadata": {},
   "outputs": [],
   "source": [
    "l2=[50,60,'mango']\n",
    "l2.remove(60)"
   ]
  },
  {
   "cell_type": "code",
   "execution_count": 46,
   "id": "dcb794f4-bc99-4703-808f-26827b604db6",
   "metadata": {},
   "outputs": [
    {
     "name": "stdout",
     "output_type": "stream",
     "text": [
      "[50, 'mango']\n"
     ]
    }
   ],
   "source": [
    "print(l2)"
   ]
  },
  {
   "cell_type": "code",
   "execution_count": null,
   "id": "c5e681bd-3b81-499b-9fe5-07190c65fc70",
   "metadata": {},
   "outputs": [],
   "source": [
    "# in pop we need to mention index ,to remove the element and \n",
    "# after poping ,it will show the popped elemnt from the list\n",
    "# in remove we need to mention element which we want to remove"
   ]
  },
  {
   "cell_type": "code",
   "execution_count": 52,
   "id": "12cf9141-4c20-4020-bde8-c01b6f05d656",
   "metadata": {},
   "outputs": [
    {
     "ename": "TypeError",
     "evalue": "'NoneType' object is not iterable",
     "output_type": "error",
     "traceback": [
      "\u001b[1;31m---------------------------------------------------------------------------\u001b[0m",
      "\u001b[1;31mTypeError\u001b[0m                                 Traceback (most recent call last)",
      "Cell \u001b[1;32mIn[52], line 3\u001b[0m\n\u001b[0;32m      1\u001b[0m l1\u001b[38;5;241m=\u001b[39m[\u001b[38;5;241m10\u001b[39m,\u001b[38;5;241m20\u001b[39m,\u001b[38;5;124m'\u001b[39m\u001b[38;5;124mapple\u001b[39m\u001b[38;5;124m'\u001b[39m,\u001b[38;5;124m'\u001b[39m\u001b[38;5;124mbat\u001b[39m\u001b[38;5;124m'\u001b[39m]\n\u001b[0;32m      2\u001b[0m rev\u001b[38;5;241m=\u001b[39ml1\u001b[38;5;241m.\u001b[39mreverse()\n\u001b[1;32m----> 3\u001b[0m \u001b[38;5;28;01mfor\u001b[39;00m i \u001b[38;5;129;01min\u001b[39;00m rev:\n\u001b[0;32m      5\u001b[0m     \u001b[38;5;28mprint\u001b[39m(i)\n",
      "\u001b[1;31mTypeError\u001b[0m: 'NoneType' object is not iterable"
     ]
    }
   ],
   "source": [
    "l1=[10,20,'apple','bat']\n",
    "rev=l1.reverse()\n",
    "for i in rev:\n",
    "\n",
    "    print(i)"
   ]
  },
  {
   "cell_type": "code",
   "execution_count": null,
   "id": "07bf8ddb-2af7-4b6b-a1a7-4e27a534f9b4",
   "metadata": {},
   "outputs": [],
   "source": []
  }
 ],
 "metadata": {
  "kernelspec": {
   "display_name": "Python 3 (ipykernel)",
   "language": "python",
   "name": "python3"
  },
  "language_info": {
   "codemirror_mode": {
    "name": "ipython",
    "version": 3
   },
   "file_extension": ".py",
   "mimetype": "text/x-python",
   "name": "python",
   "nbconvert_exporter": "python",
   "pygments_lexer": "ipython3",
   "version": "3.11.7"
  }
 },
 "nbformat": 4,
 "nbformat_minor": 5
}
